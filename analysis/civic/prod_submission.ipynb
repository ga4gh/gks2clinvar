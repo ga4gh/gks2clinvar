{
 "cells": [
  {
   "cell_type": "code",
   "execution_count": null,
   "metadata": {},
   "outputs": [],
   "source": [
    "import json\n",
    "import os\n",
    "import sys\n",
    "from pathlib import Path\n",
    "\n",
    "module_path = os.path.abspath(os.path.join(\"../\"))\n",
    "if module_path not in sys.path:\n",
    "    sys.path.append(module_path)\n",
    "from utils import submit  # noqa: E402"
   ]
  },
  {
   "cell_type": "code",
   "execution_count": null,
   "metadata": {},
   "outputs": [],
   "source": [
    "with Path(\"assertion_onco.json\").open() as f:\n",
    "  onco_sub = json.load(f)\n",
    "\n",
    "assert submit(onco_sub, use_prod=False, dry_run=True).status_code == 204"
   ]
  },
  {
   "cell_type": "code",
   "execution_count": null,
   "metadata": {},
   "outputs": [],
   "source": [
    "with Path(\"batch_assertions_clinical_impact.json\").open() as f:\n",
    "  clin_impact_sub = None\n",
    "  _data = json.load(f)\n",
    "  _subs = _data[\"clinicalImpactSubmission\"]\n",
    "\n",
    "  for _sub in _subs:\n",
    "    if _sub[\"localKey\"] == \"civic.AID:7\":\n",
    "      clin_impact_sub = {\n",
    "        \"assertionCriteria\": {\n",
    "          \"db\": \"PubMed\",\n",
    "          \"id\": \" 27993330\"\n",
    "        },\n",
    "        \"clinicalImpactSubmission\": [_sub]\n",
    "      }\n",
    "      break\n",
    "\n",
    "assert submit(clin_impact_sub, use_prod=True, dry_run=True).status_code == 204"
   ]
  },
  {
   "cell_type": "code",
   "execution_count": null,
   "metadata": {},
   "outputs": [],
   "source": [
    "onco_sub_resp = submit(onco_sub, use_prod=True, dry_run=False)\n",
    "onco_sub_resp.status_code"
   ]
  },
  {
   "cell_type": "code",
   "execution_count": null,
   "metadata": {},
   "outputs": [],
   "source": [
    "clin_impact_sub_resp = submit(clin_impact_sub, use_prod=True, dry_run=False)\n",
    "clin_impact_sub_resp.status_code"
   ]
  }
 ],
 "metadata": {
  "kernelspec": {
   "display_name": "venv",
   "language": "python",
   "name": "python3"
  },
  "language_info": {
   "codemirror_mode": {
    "name": "ipython",
    "version": 3
   },
   "file_extension": ".py",
   "mimetype": "text/x-python",
   "name": "python",
   "nbconvert_exporter": "python",
   "pygments_lexer": "ipython3",
   "version": "3.12.2"
  }
 },
 "nbformat": 4,
 "nbformat_minor": 2
}

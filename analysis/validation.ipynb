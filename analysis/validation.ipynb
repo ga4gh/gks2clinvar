{
 "cells": [
  {
   "cell_type": "markdown",
   "metadata": {},
   "source": [
    "# Validation\n",
    "\n",
    "Analysis on ClinVar Submission API validation and what errors can look like"
   ]
  },
  {
   "cell_type": "code",
   "execution_count": 1,
   "metadata": {},
   "outputs": [],
   "source": [
    "import json\n",
    "import os\n",
    "import sys\n",
    "from pathlib import Path\n",
    "from copy import deepcopy\n",
    "\n",
    "module_path = os.path.abspath(os.path.join(\"../\"))\n",
    "if module_path not in sys.path:\n",
    "    sys.path.append(module_path)\n",
    "from utils import dry_run_test_api  # noqa: E402"
   ]
  },
  {
   "cell_type": "code",
   "execution_count": 2,
   "metadata": {},
   "outputs": [],
   "source": [
    "with Path(\"civic/assertion_onco.json\").open() as f:\n",
    "  onco_data = json.load(f)\n",
    "\n",
    "onco_sub = onco_data[\"oncogenicitySubmission\"][0]\n",
    "onco_sub_cpy = deepcopy(onco_sub)"
   ]
  },
  {
   "cell_type": "markdown",
   "metadata": {},
   "source": [
    "## Errors"
   ]
  },
  {
   "cell_type": "code",
   "execution_count": 3,
   "metadata": {},
   "outputs": [
    {
     "data": {
      "text/plain": [
       "{'message': 'Validation failed, see errors for detailed description',\n",
       " 'errors': [{'message': \"Additional properties are not allowed ('conditionSet', 'localID', 'localKey', 'observedIn', 'oncogenicityClassification', 'recordStatus', 'variantSet' were unexpected)\",\n",
       "   'code': None,\n",
       "   'identifier': None}]}"
      ]
     },
     "execution_count": 3,
     "metadata": {},
     "output_type": "execute_result"
    }
   ],
   "source": [
    "# Not including oncogenicitySubmission in payload\n",
    "dry_run_test_api(onco_sub_cpy).json()"
   ]
  },
  {
   "cell_type": "code",
   "execution_count": 4,
   "metadata": {},
   "outputs": [
    {
     "data": {
      "text/plain": [
       "{'message': 'Validation failed, see errors for detailed description',\n",
       " 'errors': [{'message': \"Unevaluated properties are not allowed ('identifier', 'test', 'will-this-break' were unexpected)\",\n",
       "   'code': None,\n",
       "   'identifier': None}]}"
      ]
     },
     "execution_count": 4,
     "metadata": {},
     "output_type": "execute_result"
    }
   ],
   "source": [
    "# Including additional properties\n",
    "onco_sub_cpy = deepcopy(onco_sub)\n",
    "onco_sub_cpy[\"test\"] = 1\n",
    "onco_sub_cpy[\"will-this-break\"] = \"yes\"\n",
    "onco_sub_cpy[\"identifier\"] = {\"db\": \"name\"}\n",
    "\n",
    "dry_run_test_api({\"oncogenicitySubmission\": [onco_sub_cpy]}).json()"
   ]
  },
  {
   "cell_type": "code",
   "execution_count": 5,
   "metadata": {},
   "outputs": [
    {
     "data": {
      "text/plain": [
       "{'message': 'Validation failed, see errors for detailed description',\n",
       " 'errors': [{'message': \"'recordStatus' is a required property\",\n",
       "   'code': None,\n",
       "   'identifier': None},\n",
       "  {'message': \"'observedIn' is a required property\",\n",
       "   'code': None,\n",
       "   'identifier': None},\n",
       "  {'message': \"'conditionSet' is a required property\",\n",
       "   'code': None,\n",
       "   'identifier': None},\n",
       "  {'message': \"Unevaluated properties are not allowed ('identifier', 'test', 'will-this-break' were unexpected)\",\n",
       "   'code': None,\n",
       "   'identifier': None}]}"
      ]
     },
     "execution_count": 5,
     "metadata": {},
     "output_type": "execute_result"
    }
   ],
   "source": [
    "# Not including required properties\n",
    "del onco_sub_cpy[\"recordStatus\"]\n",
    "del onco_sub_cpy[\"observedIn\"]\n",
    "del onco_sub_cpy[\"conditionSet\"]\n",
    "\n",
    "dry_run_test_api({\"oncogenicitySubmission\": [onco_sub_cpy]}).json()"
   ]
  },
  {
   "cell_type": "code",
   "execution_count": 6,
   "metadata": {},
   "outputs": [
    {
     "data": {
      "text/plain": [
       "{'message': 'Validation failed, see errors for detailed description',\n",
       " 'errors': [{'message': \"{'symbol': 'FGR3'} is not of type 'array'\",\n",
       "   'code': None,\n",
       "   'identifier': None},\n",
       "  {'message': \"27998968 is not of type 'string'\",\n",
       "   'code': None,\n",
       "   'identifier': None}]}"
      ]
     },
     "execution_count": 6,
     "metadata": {},
     "output_type": "execute_result"
    }
   ],
   "source": [
    "# Invalid type\n",
    "onco_sub_cpy = deepcopy(onco_sub)\n",
    "onco_sub_cpy[\"variantSet\"][\"variant\"][0][\"gene\"] = {\"symbol\": \"FGR3\"}\n",
    "onco_sub_cpy[\"oncogenicityClassification\"][\"citation\"] = [{\"db\": \"PubMed\", \"id\": 27998968}]\n",
    "\n",
    "dry_run_test_api({\"oncogenicitySubmission\": [onco_sub_cpy]}).json()"
   ]
  },
  {
   "cell_type": "code",
   "execution_count": 7,
   "metadata": {},
   "outputs": [
    {
     "data": {
      "text/plain": [
       "{'message': 'Validation failed, see errors for detailed description',\n",
       " 'errors': [{'message': \"'oncogenic' is not one of ['Oncogenic', 'Likely oncogenic', 'Uncertain significance', 'Likely benign', 'Benign']\",\n",
       "   'code': None,\n",
       "   'identifier': None}]}"
      ]
     },
     "execution_count": 7,
     "metadata": {},
     "output_type": "execute_result"
    }
   ],
   "source": [
    "# Incorrect case\n",
    "onco_sub_cpy = deepcopy(onco_sub)\n",
    "onco_sub_cpy[\"oncogenicityClassification\"][\"oncogenicityClassificationDescription\"] = \"oncogenic\"\n",
    "\n",
    "dry_run_test_api({\"oncogenicitySubmission\": [onco_sub_cpy]}).json()"
   ]
  },
  {
   "cell_type": "code",
   "execution_count": 8,
   "metadata": {},
   "outputs": [
    {
     "data": {
      "text/plain": [
       "{'message': 'Validation failed, see errors for detailed description',\n",
       " 'errors': [{'message': \"'gene' is not of type 'object'\",\n",
       "   'code': None,\n",
       "   'identifier': None},\n",
       "  {'message': \"'gene' is valid under each of {'required': ['hgvs']}, {'required': ['chromosomeCoordinates']}\",\n",
       "   'code': None,\n",
       "   'identifier': None}]}"
      ]
     },
     "execution_count": 8,
     "metadata": {},
     "output_type": "execute_result"
    }
   ],
   "source": [
    "# Passing invalid type / not a required field\n",
    "onco_sub_cpy = deepcopy(onco_sub)\n",
    "onco_sub_cpy[\"variantSet\"][\"variant\"] = [\"gene\"]\n",
    "\n",
    "dry_run_test_api({\"oncogenicitySubmission\": [onco_sub_cpy]}).json()"
   ]
  },
  {
   "cell_type": "code",
   "execution_count": 9,
   "metadata": {},
   "outputs": [
    {
     "data": {
      "text/plain": [
       "{'message': 'Validation failed, see errors for detailed description',\n",
       " 'errors': [{'message': \"{'symbol': 'EGFR', 'id': 673} is valid under each of {'required': ['symbol']}, {'required': ['id']}\",\n",
       "   'code': None,\n",
       "   'identifier': None}]}"
      ]
     },
     "execution_count": 9,
     "metadata": {},
     "output_type": "execute_result"
    }
   ],
   "source": [
    "# Can't include both db id and name\n",
    "onco_sub_cpy = deepcopy(onco_sub)\n",
    "onco_sub_cpy[\"variantSet\"][\"variant\"][0][\"gene\"] = [\n",
    "  {\n",
    "    \"symbol\": \"EGFR\",\n",
    "    \"id\": 673\n",
    "  }\n",
    "]\n",
    "\n",
    "dry_run_test_api({\"oncogenicitySubmission\": [onco_sub_cpy]}).json()"
   ]
  },
  {
   "cell_type": "code",
   "execution_count": 10,
   "metadata": {},
   "outputs": [
    {
     "data": {
      "text/plain": [
       "{'message': 'Validation failed, see errors for detailed description',\n",
       " 'errors': [{'message': \"Additional properties are not allowed ('myCitation' was unexpected)\",\n",
       "   'code': None,\n",
       "   'identifier': None},\n",
       "  {'message': \"{'myCitation': [{'id': 1}]} is not valid under any of the given schemas\",\n",
       "   'code': None,\n",
       "   'identifier': None}]}"
      ]
     },
     "execution_count": 10,
     "metadata": {},
     "output_type": "execute_result"
    }
   ],
   "source": [
    "# Adding invalid citation\n",
    "onco_sub_cpy = deepcopy(onco_sub)\n",
    "onco_sub_cpy[\"oncogenicityClassification\"][\"citation\"].append({\"myCitation\": [{\"id\": 1}]})\n",
    "\n",
    "dry_run_test_api({\"oncogenicitySubmission\": [onco_sub_cpy]}).json()"
   ]
  },
  {
   "cell_type": "markdown",
   "metadata": {},
   "source": [
    "## No Data Validation\n",
    "\n",
    "ClinVar Submission API doesn't appear to do data validation, such as ensuring gene/disease/therapy/variant concepts are actual concepts."
   ]
  },
  {
   "cell_type": "code",
   "execution_count": 11,
   "metadata": {},
   "outputs": [
    {
     "data": {
      "text/plain": [
       "204"
      ]
     },
     "execution_count": 11,
     "metadata": {},
     "output_type": "execute_result"
    }
   ],
   "source": [
    "# Passing invalid gene symbol\n",
    "onco_sub_cpy = deepcopy(onco_sub)\n",
    "onco_sub_cpy[\"variantSet\"][\"variant\"][0][\"gene\"] = [{\"symbol\": \"dummy gene\"}]\n",
    "\n",
    "dry_run_test_api({\"oncogenicitySubmission\": [onco_sub_cpy]}).status_code"
   ]
  },
  {
   "cell_type": "code",
   "execution_count": 12,
   "metadata": {},
   "outputs": [
    {
     "data": {
      "text/plain": [
       "204"
      ]
     },
     "execution_count": 12,
     "metadata": {},
     "output_type": "execute_result"
    }
   ],
   "source": [
    "# hgvs should be c/g, but it accepts p\n",
    "onco_sub_cpy = deepcopy(onco_sub)\n",
    "onco_sub_cpy[\"variantSet\"][\"variant\"][0][\"hgvs\"] = \"NP_004324.2:p.Val600Glu\"\n",
    "\n",
    "dry_run_test_api({\"oncogenicitySubmission\": [onco_sub_cpy]}).status_code"
   ]
  },
  {
   "cell_type": "code",
   "execution_count": 13,
   "metadata": {},
   "outputs": [
    {
     "data": {
      "text/plain": [
       "204"
      ]
     },
     "execution_count": 13,
     "metadata": {},
     "output_type": "execute_result"
    }
   ],
   "source": [
    "# Not HGVS\n",
    "onco_sub_cpy = deepcopy(onco_sub)\n",
    "onco_sub_cpy[\"variantSet\"][\"variant\"][0][\"hgvs\"] = \"7-140453136-A-T\"\n",
    "\n",
    "dry_run_test_api({\"oncogenicitySubmission\": [onco_sub_cpy]}).status_code"
   ]
  },
  {
   "cell_type": "code",
   "execution_count": 14,
   "metadata": {},
   "outputs": [
    {
     "data": {
      "text/plain": [
       "204"
      ]
     },
     "execution_count": 14,
     "metadata": {},
     "output_type": "execute_result"
    }
   ],
   "source": [
    "# Invalid condition name\n",
    "onco_sub_cpy = deepcopy(onco_sub)\n",
    "onco_sub_cpy[\"conditionSet\"][\"condition\"][0][\"name\"] = \"invalid\"\n",
    "\n",
    "dry_run_test_api({\"oncogenicitySubmission\": [onco_sub_cpy]}).status_code"
   ]
  },
  {
   "cell_type": "code",
   "execution_count": 15,
   "metadata": {},
   "outputs": [
    {
     "data": {
      "text/plain": [
       "204"
      ]
     },
     "execution_count": 15,
     "metadata": {},
     "output_type": "execute_result"
    }
   ],
   "source": [
    "# Invalid MONDO ID\n",
    "onco_sub_cpy = deepcopy(onco_sub)\n",
    "onco_sub_cpy[\"conditionSet\"][\"condition\"][0] = {\"db\": \"MONDO\", \"id\": \"asdf\"}\n",
    "\n",
    "dry_run_test_api({\"oncogenicitySubmission\": [onco_sub_cpy]}).status_code"
   ]
  },
  {
   "cell_type": "code",
   "execution_count": 16,
   "metadata": {},
   "outputs": [],
   "source": [
    "with Path(\"civic/therapeutic_evidence.json\").open() as f:\n",
    "  tr_data = json.load(f)\n",
    "\n",
    "tr_sub = tr_data[\"clinicalImpactSubmission\"][0]"
   ]
  },
  {
   "cell_type": "code",
   "execution_count": 17,
   "metadata": {},
   "outputs": [
    {
     "data": {
      "text/plain": [
       "204"
      ]
     },
     "execution_count": 17,
     "metadata": {},
     "output_type": "execute_result"
    }
   ],
   "source": [
    "# Using delimiter that isn't semicolon for drugs\n",
    "tr_sub_cpy = deepcopy(tr_sub)\n",
    "tr_sub_cpy[\"clinicalImpactClassification\"][\"drugForTherapeuticAssertion\"] = \"afatinib|cisplatin\"\n",
    "dry_run_test_api({\"clinicalImpactSubmission\": [tr_sub_cpy]}).status_code"
   ]
  },
  {
   "cell_type": "code",
   "execution_count": 18,
   "metadata": {},
   "outputs": [
    {
     "data": {
      "text/plain": [
       "204"
      ]
     },
     "execution_count": 18,
     "metadata": {},
     "output_type": "execute_result"
    }
   ],
   "source": [
    "# Invalid drug\n",
    "tr_sub_cpy = deepcopy(tr_sub)\n",
    "tr_sub_cpy[\"clinicalImpactClassification\"][\"drugForTherapeuticAssertion\"] = \"dummy drug\"\n",
    "dry_run_test_api({\"clinicalImpactSubmission\": [tr_sub_cpy]}).status_code"
   ]
  },
  {
   "cell_type": "code",
   "execution_count": 19,
   "metadata": {},
   "outputs": [
    {
     "data": {
      "text/plain": [
       "204"
      ]
     },
     "execution_count": 19,
     "metadata": {},
     "output_type": "execute_result"
    }
   ],
   "source": [
    "# Using drug in prognostic data\n",
    "with Path(\"civic/prognostic_evidence.json\").open() as f:\n",
    "  p_data = json.load(f)\n",
    "\n",
    "p_sub = p_data[\"clinicalImpactSubmission\"][0]\n",
    "p_sub_cpy = deepcopy(p_sub)\n",
    "p_sub_cpy[\"clinicalImpactClassification\"][\"drugForTherapeuticAssertion\"] = \"afatinib\"\n",
    "\n",
    "dry_run_test_api({\"clinicalImpactSubmission\": [p_sub_cpy]}).status_code\n"
   ]
  }
 ],
 "metadata": {
  "kernelspec": {
   "display_name": "venv",
   "language": "python",
   "name": "python3"
  },
  "language_info": {
   "codemirror_mode": {
    "name": "ipython",
    "version": 3
   },
   "file_extension": ".py",
   "mimetype": "text/x-python",
   "name": "python",
   "nbconvert_exporter": "python",
   "pygments_lexer": "ipython3",
   "version": "3.12.2"
  }
 },
 "nbformat": 4,
 "nbformat_minor": 2
}
